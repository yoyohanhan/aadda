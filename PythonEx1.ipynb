{
  "nbformat": 4,
  "nbformat_minor": 0,
  "metadata": {
    "colab": {
      "name": "PythonEx1.ipynb",
      "provenance": [],
      "collapsed_sections": []
    },
    "kernelspec": {
      "name": "python3",
      "display_name": "Python 3"
    }
  },
  "cells": [
    {
      "cell_type": "code",
      "metadata": {
        "id": "DSZ8gsWNxmo2",
        "colab_type": "code",
        "outputId": "f04b61f1-18a8-4382-93fc-2ff384505e0c",
        "colab": {
          "base_uri": "https://localhost:8080/",
          "height": 90
        }
      },
      "source": [
        "import numpy as np\n",
        "a=np.arange(15).reshape(3,5)\n",
        "print(a)\n",
        "print('a.shape:',a.shape)"
      ],
      "execution_count": 0,
      "outputs": [
        {
          "output_type": "stream",
          "text": [
            "[[ 0  1  2  3  4]\n",
            " [ 5  6  7  8  9]\n",
            " [10 11 12 13 14]]\n",
            "a.shape: (3, 5)\n"
          ],
          "name": "stdout"
        }
      ]
    },
    {
      "cell_type": "code",
      "metadata": {
        "id": "iF_D7hCg0jGb",
        "colab_type": "code",
        "outputId": "0f3ccc7c-d532-4c95-9dfa-c058b9d6f530",
        "colab": {
          "base_uri": "https://localhost:8080/",
          "height": 35
        }
      },
      "source": [
        "print('a.ndim:',a.ndim)"
      ],
      "execution_count": 0,
      "outputs": [
        {
          "output_type": "stream",
          "text": [
            "a.ndim: 2\n"
          ],
          "name": "stdout"
        }
      ]
    },
    {
      "cell_type": "code",
      "metadata": {
        "id": "RBqYn6aD0vK0",
        "colab_type": "code",
        "outputId": "6c794a8e-fb5c-4be4-b9e9-65d3b9a85054",
        "colab": {
          "base_uri": "https://localhost:8080/",
          "height": 35
        }
      },
      "source": [
        "print('a,dtype.name:',a.dtype.name)"
      ],
      "execution_count": 0,
      "outputs": [
        {
          "output_type": "stream",
          "text": [
            "a,dtype.name: int64\n"
          ],
          "name": "stdout"
        }
      ]
    },
    {
      "cell_type": "code",
      "metadata": {
        "id": "X9d23AV90wO9",
        "colab_type": "code",
        "outputId": "06fa5c25-8ed4-4301-a9cd-8cb8c8344be2",
        "colab": {
          "base_uri": "https://localhost:8080/",
          "height": 35
        }
      },
      "source": [
        "print('a.itemsize:',a.itemsize)  #array가 갖고있는 데이터 사이즈"
      ],
      "execution_count": 0,
      "outputs": [
        {
          "output_type": "stream",
          "text": [
            "a.itemsize: 8\n"
          ],
          "name": "stdout"
        }
      ]
    },
    {
      "cell_type": "code",
      "metadata": {
        "id": "Syi-BK2Z0wdb",
        "colab_type": "code",
        "outputId": "d6ec3ca1-4786-46d1-dca8-5e1639140235",
        "colab": {
          "base_uri": "https://localhost:8080/",
          "height": 35
        }
      },
      "source": [
        "print('a.size:',a.size)"
      ],
      "execution_count": 0,
      "outputs": [
        {
          "output_type": "stream",
          "text": [
            "a.size: 15\n"
          ],
          "name": "stdout"
        }
      ]
    },
    {
      "cell_type": "code",
      "metadata": {
        "id": "YFMLf3Rm2SPE",
        "colab_type": "code",
        "outputId": "c403dfae-a77d-4f6c-ccec-5bb42392d21e",
        "colab": {
          "base_uri": "https://localhost:8080/",
          "height": 35
        }
      },
      "source": [
        "print('type(a):',type(a))  #type하고 shape 헷갈리지말자.....type은 넘파이인지 텐서플로어인지 구분"
      ],
      "execution_count": 0,
      "outputs": [
        {
          "output_type": "stream",
          "text": [
            "type(a): <class 'numpy.ndarray'>\n"
          ],
          "name": "stdout"
        }
      ]
    },
    {
      "cell_type": "markdown",
      "metadata": {
        "id": "kzSvu8sF6PMt",
        "colab_type": "text"
      },
      "source": [
        "###**Numpy 어레이만들기**"
      ]
    },
    {
      "cell_type": "code",
      "metadata": {
        "id": "akUWW29E8hc2",
        "colab_type": "code",
        "colab": {}
      },
      "source": [
        ""
      ],
      "execution_count": 0,
      "outputs": []
    },
    {
      "cell_type": "code",
      "metadata": {
        "id": "Qmzx1F5o6ubg",
        "colab_type": "code",
        "outputId": "499b807a-3337-44fd-e4d7-6cc54c0aa7f2",
        "colab": {
          "base_uri": "https://localhost:8080/",
          "height": 54
        }
      },
      "source": [
        "#np.array()\n",
        "import numpy as np\n",
        "temp=[2,3,4]\n",
        "a=np.array([2,3,4])\n",
        "print(a)\n",
        "print(temp)"
      ],
      "execution_count": 0,
      "outputs": [
        {
          "output_type": "stream",
          "text": [
            "[2 3 4]\n",
            "[2, 3, 4]\n"
          ],
          "name": "stdout"
        }
      ]
    },
    {
      "cell_type": "code",
      "metadata": {
        "id": "PCBWkBQs7IN0",
        "colab_type": "code",
        "outputId": "a81b1359-acff-4586-b661-df3642acbb73",
        "colab": {
          "base_uri": "https://localhost:8080/",
          "height": 54
        }
      },
      "source": [
        "print(type(a))\n",
        "print(type(temp))"
      ],
      "execution_count": 0,
      "outputs": [
        {
          "output_type": "stream",
          "text": [
            "<class 'numpy.ndarray'>\n",
            "<class 'list'>\n"
          ],
          "name": "stdout"
        }
      ]
    },
    {
      "cell_type": "code",
      "metadata": {
        "id": "JX8jC-ac7N4N",
        "colab_type": "code",
        "outputId": "93e65565-fbf2-4003-de00-2657f06d2980",
        "colab": {
          "base_uri": "https://localhost:8080/",
          "height": 54
        }
      },
      "source": [
        "print('a.ndim:',a.ndim) \n",
        "print('a.dtype',a.dtype)"
      ],
      "execution_count": 0,
      "outputs": [
        {
          "output_type": "stream",
          "text": [
            "a.ndim: 1\n",
            "a.dtype int64\n"
          ],
          "name": "stdout"
        }
      ]
    },
    {
      "cell_type": "code",
      "metadata": {
        "id": "gRf2qrEk8Amu",
        "colab_type": "code",
        "outputId": "7e8b70cb-c627-447f-ae78-ba829f6d6ff8",
        "colab": {
          "base_uri": "https://localhost:8080/",
          "height": 35
        }
      },
      "source": [
        "temp2=[1.2, 3.5, 5.1]\n",
        "b=np.array(temp2)\n",
        "print(b.dtype)"
      ],
      "execution_count": 0,
      "outputs": [
        {
          "output_type": "stream",
          "text": [
            "float64\n"
          ],
          "name": "stdout"
        }
      ]
    },
    {
      "cell_type": "code",
      "metadata": {
        "id": "vAH1eym08jjE",
        "colab_type": "code",
        "outputId": "46a910c3-3dd9-4549-d873-db80f78912b9",
        "colab": {
          "base_uri": "https://localhost:8080/",
          "height": 54
        }
      },
      "source": [
        "import numpy as np\n",
        "\n",
        "c=np.array([(1.5,2,3),(4,5,6)])\n",
        "print(c)"
      ],
      "execution_count": 0,
      "outputs": [
        {
          "output_type": "stream",
          "text": [
            "[[1.5 2.  3. ]\n",
            " [4.  5.  6. ]]\n"
          ],
          "name": "stdout"
        }
      ]
    },
    {
      "cell_type": "code",
      "metadata": {
        "id": "T1-ao2h78_WJ",
        "colab_type": "code",
        "outputId": "49e32757-a9c3-433d-c874-d3faf0c4e2fe",
        "colab": {
          "base_uri": "https://localhost:8080/",
          "height": 54
        }
      },
      "source": [
        "import numpy as np\n",
        "\n",
        "d=np.array([[1,2],[3,4]], dtype=complex)\n",
        "print(d)"
      ],
      "execution_count": 0,
      "outputs": [
        {
          "output_type": "stream",
          "text": [
            "[[1.+0.j 2.+0.j]\n",
            " [3.+0.j 4.+0.j]]\n"
          ],
          "name": "stdout"
        }
      ]
    },
    {
      "cell_type": "markdown",
      "metadata": {
        "id": "DZSBidGC-iHe",
        "colab_type": "text"
      },
      "source": [
        "###**np.zeros(), np.ones(),np.empty()**"
      ]
    },
    {
      "cell_type": "code",
      "metadata": {
        "id": "QNc0pGCQ-svK",
        "colab_type": "code",
        "outputId": "dbc202c5-bfde-40ee-dbd0-fe9c743cb452",
        "colab": {
          "base_uri": "https://localhost:8080/",
          "height": 235
        }
      },
      "source": [
        "import numpy as np\n",
        "\n",
        "a=np.zeros((3,4)) ##검은색 배열만들기\n",
        "b=np.ones((2,3,4),dtype=np.int16)*255 ##흰색 배열만들기\n",
        "c=np.empty((2,3))\n",
        "print(a)\n",
        "print(b)\n",
        "print(c)"
      ],
      "execution_count": 0,
      "outputs": [
        {
          "output_type": "stream",
          "text": [
            "[[0. 0. 0. 0.]\n",
            " [0. 0. 0. 0.]\n",
            " [0. 0. 0. 0.]]\n",
            "[[[255 255 255 255]\n",
            "  [255 255 255 255]\n",
            "  [255 255 255 255]]\n",
            "\n",
            " [[255 255 255 255]\n",
            "  [255 255 255 255]\n",
            "  [255 255 255 255]]]\n",
            "[[7.06416102e-304 7.06416102e-304 7.06416102e-304]\n",
            " [7.06416102e-304 7.06416102e-304 7.06416102e-304]]\n"
          ],
          "name": "stdout"
        }
      ]
    },
    {
      "cell_type": "markdown",
      "metadata": {
        "id": "lkmg1agSBEuM",
        "colab_type": "text"
      },
      "source": [
        "###**np.arange()**"
      ]
    },
    {
      "cell_type": "code",
      "metadata": {
        "id": "j9pDiNRLBJSM",
        "colab_type": "code",
        "outputId": "a242e52c-c51f-45aa-b7b3-c2580a3c4dce",
        "colab": {
          "base_uri": "https://localhost:8080/",
          "height": 54
        }
      },
      "source": [
        "import numpy as np\n",
        "\n",
        "a=np.arange(10,30,5)\n",
        "b=np.arange(0,2,0.3)\n",
        "print(a)\n",
        "print(b)"
      ],
      "execution_count": 0,
      "outputs": [
        {
          "output_type": "stream",
          "text": [
            "[10 15 20 25]\n",
            "[0.  0.3 0.6 0.9 1.2 1.5 1.8]\n"
          ],
          "name": "stdout"
        }
      ]
    },
    {
      "cell_type": "code",
      "metadata": {
        "id": "8MsmU4tcCFKe",
        "colab_type": "code",
        "outputId": "003b348b-60a0-4664-f132-dc27bd762260",
        "colab": {
          "base_uri": "https://localhost:8080/",
          "height": 217
        }
      },
      "source": [
        "import numpy as np\n",
        "\n",
        "a=np.arange(12).reshape(4,3) #2d array\n",
        "b=np.arange(24).reshape(2,3,4) #3d array\n",
        "\n",
        "print(a)\n",
        "print(b)"
      ],
      "execution_count": 0,
      "outputs": [
        {
          "output_type": "stream",
          "text": [
            "[[ 0  1  2]\n",
            " [ 3  4  5]\n",
            " [ 6  7  8]\n",
            " [ 9 10 11]]\n",
            "[[[ 0  1  2  3]\n",
            "  [ 4  5  6  7]\n",
            "  [ 8  9 10 11]]\n",
            "\n",
            " [[12 13 14 15]\n",
            "  [16 17 18 19]\n",
            "  [20 21 22 23]]]\n"
          ],
          "name": "stdout"
        }
      ]
    },
    {
      "cell_type": "code",
      "metadata": {
        "id": "IOslUMy8CeFv",
        "colab_type": "code",
        "colab": {}
      },
      "source": [
        "import numpy as np\n",
        "import sys\n",
        "a=np.arange(10000).reshape(100,100)\n",
        "np.set_printoptions(threshold=sys.maxsize)\n",
        "#print(sys.maxsize)\n",
        "#print(a)\n"
      ],
      "execution_count": 0,
      "outputs": []
    },
    {
      "cell_type": "markdown",
      "metadata": {
        "id": "HNqPkcdzU9Tq",
        "colab_type": "text"
      },
      "source": [
        "###**numpy araray의 산술연산***"
      ]
    },
    {
      "cell_type": "code",
      "metadata": {
        "id": "TyPIA5YsVDH5",
        "colab_type": "code",
        "outputId": "606ab805-2767-499e-b886-e959e1251d53",
        "colab": {
          "base_uri": "https://localhost:8080/",
          "height": 72
        }
      },
      "source": [
        "a=np.array([20,30,40,50])\n",
        "b=np.arange(4)\n",
        "\n",
        "print(a)\n",
        "print(b)\n",
        "\n",
        "c=a-b\n",
        "print(c)"
      ],
      "execution_count": 0,
      "outputs": [
        {
          "output_type": "stream",
          "text": [
            "[20 30 40 50]\n",
            "[0 1 2 3]\n",
            "[20 29 38 47]\n"
          ],
          "name": "stdout"
        }
      ]
    },
    {
      "cell_type": "code",
      "metadata": {
        "id": "hU2qHsHgW_iq",
        "colab_type": "code",
        "outputId": "95154150-d22f-4cca-d016-750cfc93f156",
        "colab": {
          "base_uri": "https://localhost:8080/",
          "height": 1000
        }
      },
      "source": [
        "import numpy as np\n",
        "a=np.array([20,30,40,50])\n",
        "b=np.arange(4)\n",
        "print(b**2)\n",
        "for i in range(0, 90, 1):\n",
        "  print(np.sin(i))"
      ],
      "execution_count": 0,
      "outputs": [
        {
          "output_type": "stream",
          "text": [
            "[0 1 4 9]\n",
            "0.0\n",
            "0.8414709848078965\n",
            "0.9092974268256817\n",
            "0.1411200080598672\n",
            "-0.7568024953079282\n",
            "-0.9589242746631385\n",
            "-0.27941549819892586\n",
            "0.6569865987187891\n",
            "0.9893582466233818\n",
            "0.4121184852417566\n",
            "-0.5440211108893698\n",
            "-0.9999902065507035\n",
            "-0.5365729180004349\n",
            "0.4201670368266409\n",
            "0.9906073556948704\n",
            "0.6502878401571168\n",
            "-0.2879033166650653\n",
            "-0.9613974918795568\n",
            "-0.750987246771676\n",
            "0.14987720966295234\n",
            "0.9129452507276277\n",
            "0.8366556385360561\n",
            "-0.008851309290403876\n",
            "-0.8462204041751706\n",
            "-0.9055783620066239\n",
            "-0.13235175009777303\n",
            "0.7625584504796027\n",
            "0.956375928404503\n",
            "0.27090578830786904\n",
            "-0.6636338842129675\n",
            "-0.9880316240928618\n",
            "-0.404037645323065\n",
            "0.5514266812416906\n",
            "0.9999118601072672\n",
            "0.5290826861200238\n",
            "-0.428182669496151\n",
            "-0.9917788534431158\n",
            "-0.6435381333569995\n",
            "0.2963685787093853\n",
            "0.9637953862840878\n",
            "0.7451131604793488\n",
            "-0.158622668804709\n",
            "-0.9165215479156338\n",
            "-0.8317747426285983\n",
            "0.017701925105413577\n",
            "0.8509035245341184\n",
            "0.9017883476488092\n",
            "0.123573122745224\n",
            "-0.7682546613236668\n",
            "-0.9537526527594719\n",
            "-0.26237485370392877\n",
            "0.6702291758433747\n",
            "0.9866275920404853\n",
            "0.39592515018183416\n",
            "-0.5587890488516163\n",
            "-0.9997551733586199\n",
            "-0.5215510020869119\n",
            "0.43616475524782494\n",
            "0.9928726480845371\n",
            "0.6367380071391379\n",
            "-0.3048106211022167\n",
            "-0.9661177700083929\n",
            "-0.7391806966492228\n",
            "0.16735570030280691\n",
            "0.9200260381967906\n",
            "0.8268286794901034\n",
            "-0.026551154023966794\n",
            "-0.8555199789753223\n",
            "-0.8979276806892913\n",
            "-0.11478481378318722\n",
            "0.7738906815578891\n",
            "0.9510546532543747\n",
            "0.25382336276203626\n",
            "-0.6767719568873076\n",
            "-0.9851462604682474\n",
            "-0.38778163540943045\n",
            "0.5661076368981803\n",
            "0.9995201585807313\n",
            "0.5139784559875352\n",
            "-0.4441126687075084\n",
            "-0.9938886539233752\n",
            "-0.6298879942744539\n",
            "0.31322878243308516\n",
            "0.9683644611001854\n",
            "0.7331903200732922\n",
            "-0.1760756199485871\n",
            "-0.9234584470040598\n",
            "-0.8218178366308225\n",
            "0.03539830273366068\n",
            "0.8600694058124533\n"
          ],
          "name": "stdout"
        }
      ]
    },
    {
      "cell_type": "markdown",
      "metadata": {
        "id": "imrkIflFZeWb",
        "colab_type": "text"
      },
      "source": [
        "###**numpy array 곱셈연산,행렬곱 연산**"
      ]
    },
    {
      "cell_type": "code",
      "metadata": {
        "id": "bvXMg8kOZkkp",
        "colab_type": "code",
        "outputId": "826593fd-9189-4c34-8c30-29edc02bdd64",
        "colab": {
          "base_uri": "https://localhost:8080/",
          "height": 126
        }
      },
      "source": [
        "import numpy as np\n",
        "\n",
        "a=np.array([[1,1],[0,1]])\n",
        "b=np.array([[2,0],[3,4]])\n",
        "\n",
        "print(a*b)    # elementwise product\n",
        "print(a@b)  # matrix product\n",
        "print(a.dot(b)) # another matrix product\n"
      ],
      "execution_count": 0,
      "outputs": [
        {
          "output_type": "stream",
          "text": [
            "[[2 0]\n",
            " [0 4]]\n",
            "[[5 4]\n",
            " [3 4]]\n",
            "[[5 4]\n",
            " [3 4]]\n"
          ],
          "name": "stdout"
        }
      ]
    },
    {
      "cell_type": "code",
      "metadata": {
        "id": "BeoCVHCJay71",
        "colab_type": "code",
        "outputId": "bdfcebe8-8bbe-4e87-ca14-27ec45b3986a",
        "colab": {
          "base_uri": "https://localhost:8080/",
          "height": 54
        }
      },
      "source": [
        "import numpy as np\n",
        "\n",
        "a=np.ones((2,3),dtype=int)\n",
        "b=np.random.random((2,3))\n",
        "a*=3\n",
        "print(a)"
      ],
      "execution_count": 0,
      "outputs": [
        {
          "output_type": "stream",
          "text": [
            "[[3 3 3]\n",
            " [3 3 3]]\n"
          ],
          "name": "stdout"
        }
      ]
    },
    {
      "cell_type": "markdown",
      "metadata": {
        "id": "JcCAoPxccryi",
        "colab_type": "text"
      },
      "source": [
        "###**단항연산: sum(), min(), max()**"
      ]
    },
    {
      "cell_type": "code",
      "metadata": {
        "id": "ukI201RVczAR",
        "colab_type": "code",
        "outputId": "b93c1697-2d4f-4d6b-fd0b-4c0478230d83",
        "colab": {
          "base_uri": "https://localhost:8080/",
          "height": 72
        }
      },
      "source": [
        "import numpy as np\n",
        "\n",
        "temp=[1,2,3,4]\n",
        "a=np.array(temp)\n",
        "print(a.sum())\n",
        "print(a.min())\n",
        "print(a.max())"
      ],
      "execution_count": 0,
      "outputs": [
        {
          "output_type": "stream",
          "text": [
            "10\n",
            "1\n",
            "4\n"
          ],
          "name": "stdout"
        }
      ]
    },
    {
      "cell_type": "markdown",
      "metadata": {
        "id": "mvngUyQmdneY",
        "colab_type": "text"
      },
      "source": [
        "###**특정 축에 대해 연산 적용**"
      ]
    },
    {
      "cell_type": "code",
      "metadata": {
        "id": "vkzg3j7ddquZ",
        "colab_type": "code",
        "outputId": "1c1f8361-435f-405f-be73-64a22142ed5f",
        "colab": {
          "base_uri": "https://localhost:8080/",
          "height": 126
        }
      },
      "source": [
        "import numpy as np\n",
        "\n",
        "b=np.arange(12).reshape(3,4)\n",
        "print(b)\n",
        "print(b.sum(axis=0)) #열의 합\n",
        "print(b.sum(axis=1)) #행의 합\n",
        "print(b.sum())\n"
      ],
      "execution_count": 0,
      "outputs": [
        {
          "output_type": "stream",
          "text": [
            "[[ 0  1  2  3]\n",
            " [ 4  5  6  7]\n",
            " [ 8  9 10 11]]\n",
            "[12 15 18 21]\n",
            "[ 6 22 38]\n",
            "66\n"
          ],
          "name": "stdout"
        }
      ]
    },
    {
      "cell_type": "markdown",
      "metadata": {
        "id": "Khgw02LglYfj",
        "colab_type": "text"
      },
      "source": [
        "###**Numpy 범용함수**"
      ]
    },
    {
      "cell_type": "code",
      "metadata": {
        "id": "MBf1G_KHldRX",
        "colab_type": "code",
        "outputId": "7c21b73a-ada8-452c-d124-b5bf85718442",
        "colab": {
          "base_uri": "https://localhost:8080/",
          "height": 54
        }
      },
      "source": [
        "import numpy as np\n",
        "B=np.arange(3)\n",
        "print(B)\n",
        "print(np.exp(B))\n",
        "print(np.sqrt(B))\n",
        "\n",
        "C=np.array([2.,-1.,4.])\n",
        "print(np.add(B,C))\n",
        "\n"
      ],
      "execution_count": 0,
      "outputs": [
        {
          "output_type": "stream",
          "text": [
            "[0 1 2]\n",
            "[1.         2.71828183 7.3890561 ]\n"
          ],
          "name": "stdout"
        }
      ]
    },
    {
      "cell_type": "markdown",
      "metadata": {
        "id": "hr_EUB5hmuGK",
        "colab_type": "text"
      },
      "source": [
        "### **Numpy index/slice/iterate**"
      ]
    },
    {
      "cell_type": "code",
      "metadata": {
        "id": "maCOIVHfm02n",
        "colab_type": "code",
        "outputId": "49ed7d0c-2b8e-4141-dd42-55e65d742d31",
        "colab": {
          "base_uri": "https://localhost:8080/",
          "height": 72
        }
      },
      "source": [
        "#index\n",
        "\n",
        "import numpy as np\n",
        "a=np.arange(10)**2\n",
        "print(a)\n",
        "print(a[2])\n",
        "print(a[-1])"
      ],
      "execution_count": 0,
      "outputs": [
        {
          "output_type": "stream",
          "text": [
            "[ 0  1  4  9 16 25 36 49 64 81]\n",
            "4\n",
            "81\n"
          ],
          "name": "stdout"
        }
      ]
    },
    {
      "cell_type": "code",
      "metadata": {
        "id": "1IPqAPf2nhL1",
        "colab_type": "code",
        "outputId": "1e9901cd-b55a-4424-b08e-56a4898104c8",
        "colab": {
          "base_uri": "https://localhost:8080/",
          "height": 72
        }
      },
      "source": [
        "#slicing 파이썬과 동일하게 어레이를 slicing할 수 있다.\n",
        "import numpy as np\n",
        "\n",
        "a=np.arange(10)**2\n",
        "print(a[2:5])\n",
        "print(a[:4:2])\n",
        "print(a[::-1])\n"
      ],
      "execution_count": 0,
      "outputs": [
        {
          "output_type": "stream",
          "text": [
            "[ 4  9 16]\n",
            "[0 4]\n",
            "[81 64 49 36 25 16  9  4  1  0]\n"
          ],
          "name": "stdout"
        }
      ]
    },
    {
      "cell_type": "markdown",
      "metadata": {
        "id": "4PY-fWzOof4a",
        "colab_type": "text"
      },
      "source": [
        "###**Iterating**"
      ]
    },
    {
      "cell_type": "code",
      "metadata": {
        "id": "K1hBqUZEojYC",
        "colab_type": "code",
        "outputId": "bd9b3276-8cc0-426c-92f5-aff945b4e679",
        "colab": {
          "base_uri": "https://localhost:8080/",
          "height": 217
        }
      },
      "source": [
        "import numpy as np\n",
        "\n",
        "a=np.arange(10)**2\n",
        "print(a)\n",
        "#iterating\n",
        "for i in a:\n",
        "  print(i*2)"
      ],
      "execution_count": 0,
      "outputs": [
        {
          "output_type": "stream",
          "text": [
            "[ 0  1  4  9 16 25 36 49 64 81]\n",
            "0\n",
            "2\n",
            "8\n",
            "18\n",
            "32\n",
            "50\n",
            "72\n",
            "98\n",
            "128\n",
            "162\n"
          ],
          "name": "stdout"
        }
      ]
    },
    {
      "cell_type": "code",
      "metadata": {
        "id": "QVPKomBjz2NF",
        "colab_type": "code",
        "outputId": "d3b44b75-2b1a-410e-cd76-bdba1714e5a9",
        "colab": {
          "base_uri": "https://localhost:8080/",
          "height": 181
        }
      },
      "source": [
        "import numpy as np\n",
        "\n",
        "def f(x,y):\n",
        "  return x+y\n",
        "\n",
        "b=np.fromfunction(f,(5,4),dtype=int)\n",
        "\n",
        "print(b)\n",
        "print(b[2,3]) #index\n",
        "print(b[:,1])\n",
        "print(b[1:3,:])"
      ],
      "execution_count": 0,
      "outputs": [
        {
          "output_type": "stream",
          "text": [
            "[[0 1 2 3]\n",
            " [1 2 3 4]\n",
            " [2 3 4 5]\n",
            " [3 4 5 6]\n",
            " [4 5 6 7]]\n",
            "5\n",
            "[1 2 3 4 5]\n",
            "[[1 2 3 4]\n",
            " [2 3 4 5]]\n"
          ],
          "name": "stdout"
        }
      ]
    },
    {
      "cell_type": "code",
      "metadata": {
        "id": "i37ft-6Q1C-T",
        "colab_type": "code",
        "outputId": "ced112dd-dec3-4da1-dac2-5fae5fe99336",
        "colab": {
          "base_uri": "https://localhost:8080/",
          "height": 35
        }
      },
      "source": [
        "print(b[-1])"
      ],
      "execution_count": 0,
      "outputs": [
        {
          "output_type": "stream",
          "text": [
            "[4 5 6 7]\n"
          ],
          "name": "stdout"
        }
      ]
    },
    {
      "cell_type": "code",
      "metadata": {
        "id": "6ZqjGW9m1lET",
        "colab_type": "code",
        "outputId": "98332e90-6acd-49cf-e797-90b988b27cb8",
        "colab": {
          "base_uri": "https://localhost:8080/",
          "height": 35
        }
      },
      "source": [
        "print(b[-1,:])"
      ],
      "execution_count": 0,
      "outputs": [
        {
          "output_type": "stream",
          "text": [
            "[4 5 6 7]\n"
          ],
          "name": "stdout"
        }
      ]
    },
    {
      "cell_type": "code",
      "metadata": {
        "id": "yaYsSDmL1qOA",
        "colab_type": "code",
        "outputId": "ac54cffa-02df-43ec-fa0f-02f2eb96b087",
        "colab": {
          "base_uri": "https://localhost:8080/",
          "height": 381
        }
      },
      "source": [
        "for i in b.flat:\n",
        "  print(i)"
      ],
      "execution_count": 0,
      "outputs": [
        {
          "output_type": "stream",
          "text": [
            "0\n",
            "1\n",
            "2\n",
            "3\n",
            "1\n",
            "2\n",
            "3\n",
            "4\n",
            "2\n",
            "3\n",
            "4\n",
            "5\n",
            "3\n",
            "4\n",
            "5\n",
            "6\n",
            "4\n",
            "5\n",
            "6\n",
            "7\n"
          ],
          "name": "stdout"
        }
      ]
    },
    {
      "cell_type": "code",
      "metadata": {
        "id": "R-u5ivlC2HhY",
        "colab_type": "code",
        "outputId": "a619bbf8-b443-4650-d86e-425a45248698",
        "colab": {
          "base_uri": "https://localhost:8080/",
          "height": 1000
        }
      },
      "source": [
        "import numpy as np\n",
        "\n",
        "b=np.arange(48).reshape(2,2,3,4) #4d array\n",
        "print(b)\n",
        "for i in b.flat:\n",
        "  print(i)"
      ],
      "execution_count": 0,
      "outputs": [
        {
          "output_type": "stream",
          "text": [
            "[[[[ 0  1  2  3]\n",
            "   [ 4  5  6  7]\n",
            "   [ 8  9 10 11]]\n",
            "\n",
            "  [[12 13 14 15]\n",
            "   [16 17 18 19]\n",
            "   [20 21 22 23]]]\n",
            "\n",
            "\n",
            " [[[24 25 26 27]\n",
            "   [28 29 30 31]\n",
            "   [32 33 34 35]]\n",
            "\n",
            "  [[36 37 38 39]\n",
            "   [40 41 42 43]\n",
            "   [44 45 46 47]]]]\n",
            "0\n",
            "1\n",
            "2\n",
            "3\n",
            "4\n",
            "5\n",
            "6\n",
            "7\n",
            "8\n",
            "9\n",
            "10\n",
            "11\n",
            "12\n",
            "13\n",
            "14\n",
            "15\n",
            "16\n",
            "17\n",
            "18\n",
            "19\n",
            "20\n",
            "21\n",
            "22\n",
            "23\n",
            "24\n",
            "25\n",
            "26\n",
            "27\n",
            "28\n",
            "29\n",
            "30\n",
            "31\n",
            "32\n",
            "33\n",
            "34\n",
            "35\n",
            "36\n",
            "37\n",
            "38\n",
            "39\n",
            "40\n",
            "41\n",
            "42\n",
            "43\n",
            "44\n",
            "45\n",
            "46\n",
            "47\n"
          ],
          "name": "stdout"
        }
      ]
    },
    {
      "cell_type": "markdown",
      "metadata": {
        "id": "U99j1YLN3Cxo",
        "colab_type": "text"
      },
      "source": [
        "###**numpy array의 형태를 바꾸기**"
      ]
    },
    {
      "cell_type": "code",
      "metadata": {
        "id": "3tkSjOuq3Amb",
        "colab_type": "code",
        "outputId": "35da722a-f4a4-4ea1-d407-018f94e4f422",
        "colab": {
          "base_uri": "https://localhost:8080/",
          "height": 90
        }
      },
      "source": [
        "import numpy as np\n",
        "b= np.arange(12).reshape(3,4)\n",
        "print(b)\n",
        "print(b.shape)\n"
      ],
      "execution_count": 0,
      "outputs": [
        {
          "output_type": "stream",
          "text": [
            "[[ 0  1  2  3]\n",
            " [ 4  5  6  7]\n",
            " [ 8  9 10 11]]\n",
            "(3, 4)\n"
          ],
          "name": "stdout"
        }
      ]
    },
    {
      "cell_type": "code",
      "metadata": {
        "id": "Etm0zEC23bT7",
        "colab_type": "code",
        "outputId": "aa088a4a-da2b-4c1b-bff6-909cc507c0ea",
        "colab": {
          "base_uri": "https://localhost:8080/",
          "height": 35
        }
      },
      "source": [
        "print(b.ravel()) #1차원으로 펼쳐진 어레이를 반환한다."
      ],
      "execution_count": 0,
      "outputs": [
        {
          "output_type": "stream",
          "text": [
            "[ 0  1  2  3  4  5  6  7  8  9 10 11]\n"
          ],
          "name": "stdout"
        }
      ]
    },
    {
      "cell_type": "code",
      "metadata": {
        "id": "1HnDID9G3nTj",
        "colab_type": "code",
        "outputId": "6206e8b7-b956-45b4-d537-1c5d0fab65c9",
        "colab": {
          "base_uri": "https://localhost:8080/",
          "height": 126
        }
      },
      "source": [
        "#reshape: 새로운 형태를 갖는 어레이를 반환한다.\n",
        "print(b.reshape(6,2))"
      ],
      "execution_count": 0,
      "outputs": [
        {
          "output_type": "stream",
          "text": [
            "[[ 0  1]\n",
            " [ 2  3]\n",
            " [ 4  5]\n",
            " [ 6  7]\n",
            " [ 8  9]\n",
            " [10 11]]\n"
          ],
          "name": "stdout"
        }
      ]
    },
    {
      "cell_type": "code",
      "metadata": {
        "id": "UgwCYc9T4G-T",
        "colab_type": "code",
        "outputId": "770d7dd7-7f20-4bef-da1c-fdaf9525c7dd",
        "colab": {
          "base_uri": "https://localhost:8080/",
          "height": 90
        }
      },
      "source": [
        "#전치행렬 어레이를 반환한다.\n",
        "print(b.T)"
      ],
      "execution_count": 0,
      "outputs": [
        {
          "output_type": "stream",
          "text": [
            "[[ 0  4  8]\n",
            " [ 1  5  9]\n",
            " [ 2  6 10]\n",
            " [ 3  7 11]]\n"
          ],
          "name": "stdout"
        }
      ]
    },
    {
      "cell_type": "markdown",
      "metadata": {
        "id": "wSUpSEH14dXd",
        "colab_type": "text"
      },
      "source": [
        "###**올림(ceiling), 내림함수(floor) ** **굵은 텍스트**"
      ]
    },
    {
      "cell_type": "code",
      "metadata": {
        "id": "vq7wmkQb4v1N",
        "colab_type": "code",
        "outputId": "b3ec3656-eebf-49a9-a73e-1c10f68a19d0",
        "colab": {
          "base_uri": "https://localhost:8080/",
          "height": 35
        }
      },
      "source": [
        "import numpy as np\n",
        "\n",
        "a=np.array([-1.7, -1.4, -0.2, 0.2, 1.4 ,1.7, 2])\n",
        "print(np.floor(a))"
      ],
      "execution_count": 0,
      "outputs": [
        {
          "output_type": "stream",
          "text": [
            "[-2. -2. -1.  0.  1.  1.  2.]\n"
          ],
          "name": "stdout"
        }
      ]
    },
    {
      "cell_type": "code",
      "metadata": {
        "id": "ZaqaKCJ95GBN",
        "colab_type": "code",
        "outputId": "89db45f4-f71a-4ecb-8ce3-dbc88aedefb8",
        "colab": {
          "base_uri": "https://localhost:8080/",
          "height": 35
        }
      },
      "source": [
        "import numpy as np\n",
        "\n",
        "a=np.array([-1.7, -1.4, -0.2, 0.2, 1.4 ,1.7, 2])\n",
        "print(np.ceil(a))"
      ],
      "execution_count": 0,
      "outputs": [
        {
          "output_type": "stream",
          "text": [
            "[-1. -1. -0.  1.  2.  2.  2.]\n"
          ],
          "name": "stdout"
        }
      ]
    },
    {
      "cell_type": "code",
      "metadata": {
        "id": "5sfBU5LM5Wnv",
        "colab_type": "code",
        "outputId": "69c1cdb0-7a01-41a9-acd2-13ef3fca52cd",
        "colab": {
          "base_uri": "https://localhost:8080/",
          "height": 35
        }
      },
      "source": [
        "import numpy as np\n",
        "\n",
        "a=np.array([-1.7, -1.4, -0.2, 0.2, 1.4 ,1.7, 2])\n",
        "print(np.around(a))"
      ],
      "execution_count": 0,
      "outputs": [
        {
          "output_type": "stream",
          "text": [
            "[-2. -1. -0.  0.  1.  2.  2.]\n"
          ],
          "name": "stdout"
        }
      ]
    },
    {
      "cell_type": "code",
      "metadata": {
        "id": "By5J6ykc5s1z",
        "colab_type": "code",
        "outputId": "9816b70f-9e8f-4201-c132-b8d64fc4b67e",
        "colab": {
          "base_uri": "https://localhost:8080/",
          "height": 54
        }
      },
      "source": [
        "import numpy as np\n",
        "\n",
        "a=np.array([-1.7, -1.4, -0.2, 0.2, 1.4 ,1.7, 2])\n",
        "print(np.amax(a))\n",
        "print(np.amin(a))"
      ],
      "execution_count": 0,
      "outputs": [
        {
          "output_type": "stream",
          "text": [
            "2.0\n",
            "-1.7\n"
          ],
          "name": "stdout"
        }
      ]
    },
    {
      "cell_type": "code",
      "metadata": {
        "id": "r94dz30s47L4",
        "colab_type": "code",
        "outputId": "884e7c95-59ce-485b-fa16-61f402cc1a18",
        "colab": {
          "base_uri": "https://localhost:8080/",
          "height": 54
        }
      },
      "source": [
        "print(np.argmax(a))\n",
        "print(np.argmin(a))"
      ],
      "execution_count": 0,
      "outputs": [
        {
          "output_type": "stream",
          "text": [
            "6\n",
            "0\n"
          ],
          "name": "stdout"
        }
      ]
    },
    {
      "cell_type": "code",
      "metadata": {
        "id": "xlonY6RR6KU0",
        "colab_type": "code",
        "colab": {}
      },
      "source": [
        ""
      ],
      "execution_count": 0,
      "outputs": []
    }
  ]
}